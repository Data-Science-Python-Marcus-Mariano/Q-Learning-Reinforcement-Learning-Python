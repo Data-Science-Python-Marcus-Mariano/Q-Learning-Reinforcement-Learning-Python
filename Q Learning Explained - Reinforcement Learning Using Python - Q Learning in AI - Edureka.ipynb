{
 "cells": [
  {
   "cell_type": "markdown",
   "metadata": {},
   "source": [
    "# Q Learning Explained - Reinforcement Learning Using Python - Q Learning in AI - Edureka\n",
    "\n",
    "Tutorial made from 'Q Learning Explained | Reinforcement Learning Using Python | Q Learning in AI | Edureka' (Edureka!) by Marcus Mariano\n",
    "\n",
    "**Q Learning Explained: [Video](https://www.youtube.com/watch?v=DhdUlDIAG7Y)**\n"
   ]
  },
  {
   "cell_type": "markdown",
   "metadata": {},
   "source": [
    "#### Reinforcement learning solves a particular kind of problem where decision making is sequential, and the goal is long-term, such as game playing, robotics resource management , or logistics."
   ]
  },
  {
   "cell_type": "markdown",
   "metadata": {},
   "source": [
    "## Defining Problem Statement\n",
    "\n",
    "<img src=\"img/Q_Learning_Explained.png\" width=\"400\">\n",
    "\n",
    "## The State\n",
    "\n",
    "<img src=\"img/Q_Learning_states.png\" width=\"400\">\n",
    "\n",
    "## The Rewards\n",
    "\n",
    "<img src=\"img/Q_Learning_rewards.png\" width=\"400\">\n",
    "\n",
    "## The Rewards Table\n",
    "\n",
    "<img src=\"img/rewards_table.png\" width=\"700\">\n",
    "\n",
    "## Bellman's equation\n",
    "\n",
    "$$ V(s) \\; = \\; max_a(R(s, \\; a) \\; + \\;  \\gamma V (s'))$$\n",
    "\n",
    "Concepts:\n",
    "- V(s) - Value of being in a particular state\n",
    "- s - State (a particular state - room. eg.)\n",
    "- s' - Future State (state to which the robot goes from s)\n",
    "- a - Action\n",
    "- R - Reward\n",
    "- R(s, a) - a reward function which takes a state s and action a and outputss a reward value\n",
    "- γ - Discount factor (can be configured)\n",
    "- max - Bigger reward\n",
    "\n",
    "## Q-Learning algorithm equation\n",
    "\n",
    "$$ Q(s, a) \\; = \\; R(s, \\; a) \\; + \\;  \\gamma \\displaystyle\\sum_{s'}^{} \\left( P (s, a, s') \\; max_{a'} \\; Q(s', a') \\right)$$\n",
    "\n",
    "## The Temporal Difference\n",
    "\n",
    "$$ TD(a, s) \\; = \\; R(s, \\; a) \\; + \\;  \\gamma \\; max_a' \\; Q(s', a') - \\; Q(s, a)$$\n",
    "\n",
    "Definition:  \n",
    "__TD = Temporal Difference__\n",
    "\n",
    "\n",
    "### Rewriting equation\n",
    "\n",
    "$$ Q_t(s, a) \\; = \\; Q_{t -1}(s, \\; a) \\; + \\;  \\alpha \\; TD_t(a, s) $$\n",
    "\n",
    "Definition:  \n",
    "__alpha = Learning Rate (usually = 0.001)__\n",
    "\n",
    "### Rewriting equation\n",
    "\n",
    "$$ Q_t(s, a) \\; = \\; Q_{t -1}(s, \\; a) \\; + \\;  \\alpha \\left( \\; R(s, \\; a) \\; + \\;  \\gamma \\; max_a' \\; Q(s', a') - \\; Q(s, a) \\right)$$"
   ]
  },
  {
   "cell_type": "code",
   "execution_count": 1,
   "metadata": {},
   "outputs": [],
   "source": [
    "import numpy as np"
   ]
  },
  {
   "cell_type": "code",
   "execution_count": 2,
   "metadata": {},
   "outputs": [],
   "source": [
    "# Initialize parameters\n",
    "gamma = 0.75  # Discount factor\n",
    "alpha = 0.9  # Learning Rate"
   ]
  },
  {
   "cell_type": "code",
   "execution_count": 3,
   "metadata": {},
   "outputs": [],
   "source": [
    "# Define the states\n",
    "location_to_state = {'L1': 0,\n",
    "                     'L2': 1,\n",
    "                     'L3': 2,\n",
    "                     'L4': 3,\n",
    "                     'L5': 4,\n",
    "                     'L6': 5,\n",
    "                     'L7': 6,\n",
    "                     'L8': 7,\n",
    "                     'L9': 8,\n",
    "                     }"
   ]
  },
  {
   "cell_type": "code",
   "execution_count": 4,
   "metadata": {},
   "outputs": [],
   "source": [
    "# Define the actions\n",
    "actions = [0,1,2,3,4,5,6,7,8]"
   ]
  },
  {
   "cell_type": "code",
   "execution_count": 5,
   "metadata": {},
   "outputs": [],
   "source": [
    "# define the rewards\n",
    "R = np.array([[0,1,0,0,0,0,0,0,0],\n",
    "              [1,0,1,0,1,0,0,0,0],\n",
    "              [0,1,0,0,0,1,0,0,0],\n",
    "              [0,0,0,0,0,0,1,0,0],\n",
    "              [0,1,0,0,0,0,0,1,0],\n",
    "              [0,0,1,0,0,0,0,0,0],\n",
    "              [0,0,0,1,0,0,0,1,0],\n",
    "              [0,0,0,0,1,0,1,0,1],\n",
    "              [0,0,0,0,0,0,0,1,0]])"
   ]
  },
  {
   "cell_type": "code",
   "execution_count": 6,
   "metadata": {},
   "outputs": [],
   "source": [
    "# Maps indices to locations\n",
    "state_to_location = dict((state, location) for location, state in location_to_state.items())\n"
   ]
  },
  {
   "cell_type": "code",
   "execution_count": 7,
   "metadata": {},
   "outputs": [],
   "source": [
    "def get_optimal_route(start_location, end_location):\n",
    "    # Copy the rewards matrix to new Matrix\n",
    "    R_new = np.copy(R)\n",
    "    # Get the ending state corresponding to the ending location as given\n",
    "    ending_state = location_to_state[end_location]\n",
    "    # With the above information automatically set the priority of the given ending state to the highest one\n",
    "    R_new[ending_state, ending_state] = 999\n",
    "    \n",
    "    # ------------Q-Learning algorithm equation-------------\n",
    "    \n",
    "    # Initialing Q-Values\n",
    "    Q = np.array(np.zeros([9, 9]))\n",
    "    \n",
    "    # Q-Learning process\n",
    "    for i in range(1000):\n",
    "        # Pick up a state randomly\n",
    "        current_state = np.random.randint(0, 9)  # Python excludes the upper bound\n",
    "        # For traversing through the neighbor locations in the maze\n",
    "        playable_actions = []\n",
    "        # Iterate through the new rewards matrix and get the actions > 0\n",
    "        for j in range(9):\n",
    "            if R_new[current_state, j] > 0:\n",
    "                playable_actions.append(j)\n",
    "        \n",
    "        # Pick on action randomly from the list of playable actions leading us to the next state\n",
    "        next_state = np.random.choice(playable_actions)  \n",
    "        # Compute the Temporal Difference\n",
    "        # The actions here exactly refers to going to the next state\n",
    "        TD = R_new[current_state, next_state] + gamma * Q[next_state, np.argmax(Q[next_state,])] - Q[current_state, next_state]\n",
    "        # Update the Q-Value using the Bellman Equation\n",
    "        # Or --> Q[current_state, next_state] = Q[current_state, next_state] + alpha * TD\n",
    "        Q[current_state, next_state] += alpha * TD\n",
    "    \n",
    "    # Initializa the optimal route with the starting location\n",
    "    route = [start_location]\n",
    "    # We do not know about the next location yet, so initialize with the value of starting location\n",
    "    next_location = start_location\n",
    "    \n",
    "    # We don't know about the exact number of iterations needed to reach to the final location \n",
    "    # hence while loop will be a good choice for iterating\n",
    "    while (next_location != end_location):\n",
    "        # Fetch the starting state\n",
    "        starting_state = location_to_state[start_location]\n",
    "        # Fetch the highest Q-value pertaining to starting state\n",
    "        next_state = np.argmax(Q[starting_state, ])\n",
    "        # We got the index of the next state, But we need the corresponding letter.\n",
    "        next_location = state_to_location[next_state]        \n",
    "        route.append(next_location)\n",
    "        # Update the starting location for the next iteration\n",
    "        start_location = next_location\n",
    "        \n",
    "    return route\n"
   ]
  },
  {
   "cell_type": "markdown",
   "metadata": {},
   "source": [
    "## Printing optimal final route."
   ]
  },
  {
   "cell_type": "code",
   "execution_count": 8,
   "metadata": {},
   "outputs": [
    {
     "name": "stdout",
     "output_type": "stream",
     "text": [
      "['L9', 'L8', 'L5', 'L2', 'L1']\n"
     ]
    }
   ],
   "source": [
    "print(get_optimal_route('L9', 'L1'))"
   ]
  },
  {
   "cell_type": "code",
   "execution_count": 9,
   "metadata": {},
   "outputs": [
    {
     "name": "stdout",
     "output_type": "stream",
     "text": [
      "['L1', 'L2', 'L5', 'L8']\n"
     ]
    }
   ],
   "source": [
    "print(get_optimal_route('L1', 'L8'))"
   ]
  },
  {
   "cell_type": "code",
   "execution_count": 10,
   "metadata": {},
   "outputs": [
    {
     "name": "stdout",
     "output_type": "stream",
     "text": [
      "['L4', 'L7', 'L8', 'L5', 'L2', 'L3', 'L6']\n"
     ]
    }
   ],
   "source": [
    "print(get_optimal_route('L4', 'L6'))"
   ]
  }
 ],
 "metadata": {
  "kernelspec": {
   "display_name": "Python 3",
   "language": "python",
   "name": "python3"
  },
  "language_info": {
   "codemirror_mode": {
    "name": "ipython",
    "version": 3
   },
   "file_extension": ".py",
   "mimetype": "text/x-python",
   "name": "python",
   "nbconvert_exporter": "python",
   "pygments_lexer": "ipython3",
   "version": "3.6.9"
  }
 },
 "nbformat": 4,
 "nbformat_minor": 2
}
